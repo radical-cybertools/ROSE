{
 "cells": [
  {
   "cell_type": "markdown",
   "id": "f4ac3f58-1070-488f-83d8-23ce0441c18d",
   "metadata": {},
   "source": [
    "# This notebook will show how to use the ROSE framework to run two active learn algorthims in parallel and select the best one based on a metric."
   ]
  },
  {
   "cell_type": "code",
   "execution_count": 1,
   "id": "c653f197-c2da-4222-86b9-716b75ae03b9",
   "metadata": {},
   "outputs": [],
   "source": [
    "import os\n",
    "import sys\n",
    "\n",
    "from rose.learner import AlgorithmSelector\n",
    "from rose.engine import Task, ResourceEngine\n",
    "from rose.metrics import MEAN_SQUARED_ERROR_MSE"
   ]
  },
  {
   "cell_type": "markdown",
   "id": "735f0f1e-7a5a-4fec-acbb-b46507c48576",
   "metadata": {},
   "source": [
    "Lets prepare our execution engine on a local resource (user computer). We will ask for 30 minutes as this example will run fast."
   ]
  },
  {
   "cell_type": "code",
   "execution_count": 2,
   "id": "939fd0ac-fdfd-4c9c-94c8-bea12198aab3",
   "metadata": {},
   "outputs": [
    {
     "name": "stdout",
     "output_type": "stream",
     "text": [
      "Resource Engine started successfully\n",
      "\n",
      "Task 'simulation' ready to submit; resolved dependencies: []\n",
      "Task 'simulation' ready to submit; resolved dependencies: []\n",
      "submitting ['simulation', 'simulation'] for execution\n",
      "task.000000 is DONE\n",
      "task.000002 is DONE\n",
      "Task 'training' ready to submit; resolved dependencies: ['simulation']\n",
      "Task 'training' ready to submit; resolved dependencies: ['simulation']\n",
      "submitting ['training', 'training'] for execution\n",
      "task.000004 is DONE\n",
      "Task 'active_learn_2' ready to submit; resolved dependencies: ['simulation', 'training']\n",
      "submitting ['active_learn_2'] for execution\n",
      "task.000001 is DONE\n",
      "Task 'active_learn_1' ready to submit; resolved dependencies: ['simulation', 'training']\n",
      "submitting ['active_learn_1'] for execution\n",
      "task.000006 is DONE\n",
      "Task 'check_mse' ready to submit; resolved dependencies: ['active_learn_2']\n",
      "submitting ['check_mse'] for execution\n",
      "task.000003 is DONE\n",
      "Task 'check_mse' ready to submit; resolved dependencies: ['active_learn_1']\n",
      "submitting ['check_mse'] for execution\n",
      "task.000007 is DONE\n",
      "Task 'simulation' ready to submit; resolved dependencies: ['active_learn_2']\n",
      "submitting ['simulation'] for execution\n",
      "task.000005 is DONE\n",
      "task.000008 is DONE\n",
      "Task 'simulation' ready to submit; resolved dependencies: ['active_learn_1']\n",
      "Task 'training' ready to submit; resolved dependencies: ['simulation']\n",
      "submitting ['simulation', 'training'] for execution\n",
      "task.000010 is DONE\n",
      "Task 'training' ready to submit; resolved dependencies: ['simulation']\n",
      "submitting ['training'] for execution\n",
      "task.000009 is DONE\n",
      "Task 'active_learn_2' ready to submit; resolved dependencies: ['simulation', 'training']\n",
      "task.000011 is DONE\n",
      "submitting ['active_learn_2'] for execution\n",
      "Task 'active_learn_1' ready to submit; resolved dependencies: ['simulation', 'training']\n",
      "submitting ['active_learn_1'] for execution\n",
      "task.000012 is DONE\n",
      "Task 'check_mse' ready to submit; resolved dependencies: ['active_learn_2']\n",
      "submitting ['check_mse'] for execution\n",
      "task.000014 is DONE\n",
      "Task 'check_mse' ready to submit; resolved dependencies: ['active_learn_1']\n",
      "submitting ['check_mse'] for execution\n",
      "task.000013 is DONE\n",
      "Task 'simulation' ready to submit; resolved dependencies: ['active_learn_2']\n",
      "submitting ['simulation'] for execution\n",
      "task.000015 is DONE\n",
      "task.000016 is DONE\n",
      "Task 'simulation' ready to submit; resolved dependencies: ['active_learn_1']\n",
      "Task 'training' ready to submit; resolved dependencies: ['simulation']\n",
      "submitting ['simulation', 'training'] for execution\n",
      "task.000018 is DONE\n",
      "Task 'training' ready to submit; resolved dependencies: ['simulation']\n",
      "submitting ['training'] for execution\n",
      "task.000017 is DONE\n",
      "Task 'active_learn_2' ready to submit; resolved dependencies: ['simulation', 'training']\n",
      "task.000019 is DONE\n",
      "submitting ['active_learn_2'] for execution\n",
      "Task 'active_learn_1' ready to submit; resolved dependencies: ['simulation', 'training']\n",
      "submitting ['active_learn_1'] for execution\n",
      "task.000020 is DONE\n",
      "task.000022 is DONE\n",
      "Task 'check_mse' ready to submit; resolved dependencies: ['active_learn_2']\n",
      "Task 'check_mse' ready to submit; resolved dependencies: ['active_learn_1']\n",
      "submitting ['check_mse', 'check_mse'] for execution\n",
      "task.000023 is DONE\n",
      "task.000021 is DONE\n",
      "Task 'simulation' ready to submit; resolved dependencies: ['active_learn_2']\n",
      "submitting ['simulation'] for execution\n",
      "task.000024 is DONE\n",
      "Task 'training' ready to submit; resolved dependencies: ['simulation']\n",
      "submitting ['training'] for execution\n",
      "task.000025 is DONE\n",
      "Task 'active_learn_2' ready to submit; resolved dependencies: ['simulation', 'training']\n",
      "submitting ['active_learn_2'] for execution\n",
      "task.000026 is DONE\n",
      "Task 'check_mse' ready to submit; resolved dependencies: ['active_learn_2']\n",
      "submitting ['check_mse'] for execution\n",
      "task.000027 is DONE\n"
     ]
    }
   ],
   "source": [
    "engine = ResourceEngine({'runtime': 30,\n",
    "                         'resource': 'local.localhost'})\n",
    "algo_selector = AlgorithmSelector(engine)\n",
    "code_path = f'{sys.executable} {os.getcwd()}'"
   ]
  },
  {
   "cell_type": "markdown",
   "id": "1cd7dd99-e05e-48b3-93c5-3828fd39e717",
   "metadata": {},
   "source": [
    "Similar to our previous tutorials, we will define our active learn workflow components. Please note that, unlike the previous turorails, we defined **two** active learn task (`algo1` and `algo2`). ROSE will select which one is the best based on the number of iterations and the final selected metric."
   ]
  },
  {
   "cell_type": "code",
   "execution_count": 3,
   "id": "2e838a38-7822-432f-b962-d5a4ed3169d4",
   "metadata": {},
   "outputs": [],
   "source": [
    "# Define and register the simulation task\n",
    "@algo_selector.simulation_task\n",
    "def simulation(*args):\n",
    "    return Task(executable=f'{code_path}/sim.py')\n",
    "\n",
    "# Define and register the training task\n",
    "@algo_selector.training_task\n",
    "def training(*args):\n",
    "    return Task(executable=f'{code_path}/train.py')\n",
    "\n",
    "# Define and register Multiple AL tasks\n",
    "@algo_selector.active_learn_task(name='algo_1')\n",
    "def active_learn_1(*args):\n",
    "    return Task(executable=f'{code_path}/active_1.py')\n",
    "\n",
    "@algo_selector.active_learn_task(name='algo_2')\n",
    "def active_learn_2(*args):\n",
    "    return Task(executable=f'{code_path}/active_2.py')\n",
    "\n",
    "# Defining the stop criterion with a metric (MSE in this case)\n",
    "@algo_selector.as_stop_criterion(metric_name=MEAN_SQUARED_ERROR_MSE, threshold=0.01)\n",
    "def check_mse(*args):\n",
    "    return Task(executable=f'{code_path}/check_mse.py')"
   ]
  },
  {
   "cell_type": "markdown",
   "id": "9f27f553-0a80-4c1b-9826-acc40396320a",
   "metadata": {},
   "source": [
    "Now, lets invoke our workflow and instruct rose to select one of both algorithms."
   ]
  },
  {
   "cell_type": "code",
   "execution_count": 4,
   "id": "e1f05322-e11e-4df9-90ec-89f45f956015",
   "metadata": {},
   "outputs": [
    {
     "name": "stdout",
     "output_type": "stream",
     "text": [
      "Pipeline-algo_1 is submitted for execution\n",
      "Registered task 'simulation' and id of 000000 with dependencies: []\n",
      "Pipeline-algo_2 is submitted for execution\n",
      "Registered task 'training' and id of 000001 with dependencies: ['simulation']\n",
      "[Pipeline: active_learn_1] Starting Iteration-0\n",
      "Registered task 'simulation' and id of 000002 with dependencies: []\n",
      "Registered task 'active_learn_1' and id of 000003 with dependencies: ['simulation', 'training']\n",
      "Registered task 'training' and id of 000004 with dependencies: ['simulation']\n",
      "[Pipeline: active_learn_2] Starting Iteration-0\n",
      "Registered task 'check_mse' and id of 000005 with dependencies: ['active_learn_1']\n",
      "Registered task 'active_learn_2' and id of 000006 with dependencies: ['simulation', 'training']\n",
      "Registered task 'check_mse' and id of 000007 with dependencies: ['active_learn_2']\n",
      "stop criterion metric: mean_squared_error_mse is not met yet (0.030472507087414315).\n",
      "Registered task 'simulation' and id of 000008 with dependencies: ['active_learn_2']\n",
      "Registered task 'training' and id of 000009 with dependencies: ['simulation']\n",
      "stop criterion metric: mean_squared_error_mse is not met yet (0.029761929392274733).\n",
      "Registered task 'simulation' and id of 000010 with dependencies: ['active_learn_1']\n",
      "Registered task 'training' and id of 000011 with dependencies: ['simulation']\n",
      "[Pipeline: active_learn_2] Starting Iteration-1\n",
      "Registered task 'active_learn_2' and id of 000012 with dependencies: ['simulation', 'training']\n",
      "Registered task 'check_mse' and id of 000013 with dependencies: ['active_learn_2']\n",
      "[Pipeline: active_learn_1] Starting Iteration-1\n",
      "Registered task 'active_learn_1' and id of 000014 with dependencies: ['simulation', 'training']\n",
      "Registered task 'check_mse' and id of 000015 with dependencies: ['active_learn_1']\n",
      "stop criterion metric: mean_squared_error_mse is not met yet (0.03517492198971455).\n",
      "Registered task 'simulation' and id of 000016 with dependencies: ['active_learn_2']\n",
      "Registered task 'training' and id of 000017 with dependencies: ['simulation']\n",
      "stop criterion metric: mean_squared_error_mse is not met yet (0.033979938931015155).\n",
      "Registered task 'simulation' and id of 000018 with dependencies: ['active_learn_1']\n",
      "Registered task 'training' and id of 000019 with dependencies: ['simulation']\n",
      "[Pipeline: active_learn_2] Starting Iteration-2\n",
      "Registered task 'active_learn_2' and id of 000020 with dependencies: ['simulation', 'training']\n",
      "Registered task 'check_mse' and id of 000021 with dependencies: ['active_learn_2']\n",
      "[Pipeline: active_learn_1] Starting Iteration-2\n",
      "Registered task 'active_learn_1' and id of 000022 with dependencies: ['simulation', 'training']\n",
      "Registered task 'check_mse' and id of 000023 with dependencies: ['active_learn_1']\n",
      "stop criterion metric: mean_squared_error_mse is met with value of: 0.006171590950141039. Breaking the active learning loop\n",
      "stop criterion metric: mean_squared_error_mse is not met yet (0.014722324873645271).\n",
      "Registered task 'simulation' and id of 000024 with dependencies: ['active_learn_2']\n",
      "Registered task 'training' and id of 000025 with dependencies: ['simulation']\n",
      "[Pipeline: active_learn_2] Starting Iteration-3\n",
      "Registered task 'active_learn_2' and id of 000026 with dependencies: ['simulation', 'training']\n",
      "Registered task 'check_mse' and id of 000027 with dependencies: ['active_learn_2']\n",
      "stop criterion metric: mean_squared_error_mse is met with value of: 0.003481310046690417. Breaking the active learning loop\n",
      "pipeline_stats: = \n",
      "{'algo_1': {'iterations': 3, 'last_result': 0.006171590950141039}, 'algo_2': {'iterations': 4, 'last_result': 0.003481310046690417}}\n",
      "Best pipeline is 'algo_1' with 3 iteration(s) and final metric result 0.006171590950141039\n",
      "Shutdown is triggered, terminating the resources gracefully\n"
     ]
    }
   ],
   "source": [
    "# Now, call the tasks and teach\n",
    "simul = simulation()\n",
    "train = training()\n",
    "active_1 = active_learn_1()\n",
    "active_2 = active_learn_2()\n",
    "stop_cond = check_mse()\n",
    "\n",
    "# Start the teaching process\n",
    "algo_selector.teach_and_select(max_iter=4)\n",
    "engine.shutdown()"
   ]
  },
  {
   "cell_type": "code",
   "execution_count": 23,
   "id": "ad8ec69e-3364-4d11-b59f-41787cfa4042",
   "metadata": {},
   "outputs": [
    {
     "data": {
      "image/png": "[encoded data removed]",
      "text/plain": [
       "<Figure size 700x200 with 2 Axes>"
      ]
     },
     "metadata": {},
     "output_type": "display_data"
    }
   ],
   "source": [
    "import pandas as pd\n",
    "import matplotlib.pyplot as plt\n",
    "\n",
    "# Data\n",
    "results = {\n",
    "    'algo_1': {'iterations': 3, 'last_result': 0.0061},\n",
    "    'algo_2': {'iterations': 4, 'last_result': 0.0034}\n",
    "}\n",
    "\n",
    "# Convert to DataFrame\n",
    "df = pd.DataFrame(results).T  # Transpose to have algorithms as index\n",
    "\n",
    "# Create a figure with two subplots: one for iterations and one for last_result\n",
    "fig, ax = plt.subplots(1, 2, figsize=(7, 2))\n",
    "\n",
    "# Plot iterations\n",
    "df['iterations'].plot(kind='bar', ax=ax[0], color='skyblue', title='Iterations', edgecolor='black')\n",
    "ax[0].set_ylabel('No. Iterations')\n",
    "\n",
    "# Plot last_result\n",
    "df['last_result'].plot(kind='bar', ax=ax[1], color='orange', title='Algorithm Results', edgecolor='black')\n",
    "ax[1].set_ylabel('MSE Value')\n",
    "\n",
    "# Show plot\n",
    "plt.tight_layout()\n",
    "plt.show()"
   ]
  }
 ],
 "metadata": {
  "kernelspec": {
   "display_name": "Python 3 (ipykernel)",
   "language": "python",
   "name": "python3"
  },
  "language_info": {
   "codemirror_mode": {
    "name": "ipython",
    "version": 3
   },
   "file_extension": ".py",
   "mimetype": "text/x-python",
   "name": "python",
   "nbconvert_exporter": "python",
   "pygments_lexer": "ipython3",
   "version": "3.12.3"
  }
 },
 "nbformat": 4,
 "nbformat_minor": 5
}
