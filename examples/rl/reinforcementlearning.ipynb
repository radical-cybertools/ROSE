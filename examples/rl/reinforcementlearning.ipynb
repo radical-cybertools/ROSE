{
  "cells": [
    {
      "cell_type": "code",
      "execution_count": null,
      "metadata": {
        "id": "UA0MnVIPk8ha"
      },
      "outputs": [],
      "source": [
        "import os\n",
        "import sys\n",
        "import time\n",
        "\n",
        "verbose  = os.environ.get('RADICAL_PILOT_VERBOSE', 'REPORT')\n",
        "os.environ['RADICAL_PILOT_VERBOSE'] = verbose\n",
        "\n",
        "import radical.pilot as rp\n",
        "import radical.utils as ru\n",
        "\n",
        "from rose.learner import ReinforcementLearner\n",
        "from rose.engine import Task, ResourceEngine"
      ]
    },
    {
      "cell_type": "code",
      "execution_count": null,
      "metadata": {},
      "outputs": [],
      "source": [
        "engine = ResourceEngine({'runtime': 30,\n",
        "                         'resource': 'local.localhost'})\n",
        "rl = ReinforcementLearner(engine)\n",
        "code_path = f'{sys.executable} {os.getcwd()}'"
      ]
    },
    {
      "cell_type": "code",
      "execution_count": null,
      "metadata": {},
      "outputs": [],
      "source": [
        "# Define and register the environment task\n",
        "@rl.environment_task\n",
        "def environment(*args):\n",
        "    return Task(executable=f'{code_path}/environment.py', arguments=args)\n",
        "\n",
        "# Define and register the policy update task\n",
        "@rl.update_task\n",
        "def update(*args):\n",
        "    return Task(executable=f'{code_path}/update.py', arguments=args)\n"
      ]
    },
    {
      "cell_type": "code",
      "execution_count": null,
      "metadata": {},
      "outputs": [],
      "source": [
        "# Custom teaching loop with reinforcement Learning\n",
        "def teach():\n",
        "    env = environment()\n",
        "    env.result()\n",
        "    upd = update()\n",
        "    upd.result()\n",
        "# invoke the custom/user-defined teach() method\n",
        "teach()"
      ]
    },
    {
      "cell_type": "code",
      "execution_count": null,
      "metadata": {},
      "outputs": [],
      "source": [
        "engine.shutdown()"
      ]
    }
  ],
  "metadata": {
    "colab": {
      "provenance": []
    },
    "kernelspec": {
      "display_name": "Python 3",
      "name": "python3"
    },
    "language_info": {
      "name": "python"
    }
  },
  "nbformat": 4,
  "nbformat_minor": 0
}
