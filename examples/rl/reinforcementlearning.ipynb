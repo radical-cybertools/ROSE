{
 "cells": [
  {
   "cell_type": "code",
   "execution_count": 1,
   "metadata": {
    "id": "UA0MnVIPk8ha"
   },
   "outputs": [],
   "source": [
    "import os\n",
    "import sys\n",
    "import time\n",
    "\n",
    "verbose  = os.environ.get('RADICAL_PILOT_VERBOSE', 'REPORT')\n",
    "os.environ['RADICAL_PILOT_VERBOSE'] = verbose\n",
    "\n",
    "import radical.pilot as rp\n",
    "import radical.utils as ru\n",
    "\n",
    "from rose.learner import ReinforcementLearner\n",
    "from rose.engine import Task, ResourceEngine"
   ]
  },
  {
   "cell_type": "code",
   "execution_count": 2,
   "metadata": {},
   "outputs": [
    {
     "name": "stdout",
     "output_type": "stream",
     "text": [
      "Resource Engine started successfully\n",
      "\n",
      "Task 'environment' ready to submit; resolved dependencies: []\n",
      "submitting ['environment'] for execution\n",
      "task.000000 is DONE\n",
      "Task 'update' ready to submit; resolved dependencies: []\n",
      "submitting ['update'] for execution\n",
      "task.000001 is DONE\n",
      "Task 'environment' ready to submit; resolved dependencies: []\n",
      "submitting ['environment'] for execution\n"
     ]
    }
   ],
   "source": [
    "engine = ResourceEngine({'runtime': 30,\n",
    "                         'resource': 'local.localhost'})\n",
    "rl = ReinforcementLearner(engine)\n",
    "code_path = f'{sys.executable} {os.getcwd()}'"
   ]
  },
  {
   "cell_type": "code",
   "execution_count": 3,
   "metadata": {},
   "outputs": [],
   "source": [
    "# Define and register the environment task\n",
    "@rl.environment_task\n",
    "def environment(*args):\n",
    "    return Task(executable=f'{code_path}/environment.py', arguments=args)\n",
    "\n",
    "# Define and register the policy update task\n",
    "@rl.update_task\n",
    "def update(*args):\n",
    "    return Task(executable=f'{code_path}/update.py', arguments=args)\n"
   ]
  },
  {
   "cell_type": "code",
   "execution_count": null,
   "metadata": {},
   "outputs": [
    {
     "name": "stdout",
     "output_type": "stream",
     "text": [
      "Registered task 'environment' and id of 000002 with dependencies: []\n"
     ]
    }
   ],
   "source": [
    "# Custom teaching loop with reinforcement Learning\n",
    "def teach():\n",
    "    for iter in range(5):\n",
    "        env = environment()\n",
    "        env.result()\n",
    "        upd = update()\n",
    "        upd.result()\n",
    "# invoke the custom/user-defined teach() method\n",
    "teach()"
   ]
  },
  {
   "cell_type": "code",
   "execution_count": 7,
   "metadata": {},
   "outputs": [
    {
     "name": "stdout",
     "output_type": "stream",
     "text": [
      "Shutdown is triggered, terminating the resources gracefully\n"
     ]
    }
   ],
   "source": [
    "engine.shutdown()"
   ]
  },
  {
   "cell_type": "code",
   "execution_count": null,
   "metadata": {},
   "outputs": [],
   "source": []
  }
 ],
 "metadata": {
  "colab": {
   "provenance": []
  },
  "kernelspec": {
   "display_name": "Python 3 (ipykernel)",
   "language": "python",
   "name": "python3"
  },
  "language_info": {
   "codemirror_mode": {
    "name": "ipython",
    "version": 3
   },
   "file_extension": ".py",
   "mimetype": "text/x-python",
   "name": "python",
   "nbconvert_exporter": "python",
   "pygments_lexer": "ipython3",
   "version": "3.11.11"
  }
 },
 "nbformat": 4,
 "nbformat_minor": 4
}
