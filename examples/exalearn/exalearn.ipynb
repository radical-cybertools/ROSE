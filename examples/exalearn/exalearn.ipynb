{
 "cells": [
  {
   "cell_type": "code",
   "execution_count": 1,
   "id": "82f839d1-5412-4512-b1e6-a5174a8fb1c1",
   "metadata": {},
   "outputs": [],
   "source": [
    "import os\n",
    "import sys\n",
    "\n",
    "from rose.learner import SequentialActiveLearner\n",
    "from rose.engine import Task, ResourceEngine\n",
    "from rose.metrics import MEAN_SQUARED_ERROR_MSE"
   ]
  },
  {
   "cell_type": "code",
   "execution_count": 4,
   "id": "ab21ffb9-ab66-49a9-9357-918dbbeafb2f",
   "metadata": {},
   "outputs": [
    {
     "name": "stdout",
     "output_type": "stream",
     "text": [
      "Resource Engine started successfully\n",
      "\n",
      "Task 'simulation' ready to submit; resolved dependencies: []\n",
      "submitting ['simulation'] for execution\n",
      "task.000000 is FAILED\n",
      "Task 'training' ready to submit; resolved dependencies: ['simulation']\n",
      "submitting ['training'] for execution\n",
      "task.000001 is FAILED\n",
      "Task 'active_learn' ready to submit; resolved dependencies: ['simulation', 'training']\n",
      "submitting ['active_learn'] for execution\n",
      "task.000002 is FAILED\n",
      "Task 'simulation' ready to submit; resolved dependencies: ['active_learn']\n",
      "submitting ['simulation'] for execution\n",
      "task.000003 is FAILED\n",
      "Task 'training' ready to submit; resolved dependencies: ['simulation']\n",
      "submitting ['training'] for execution\n",
      "task.000004 is FAILED\n",
      "Task 'simulation' ready to submit; resolved dependencies: []\n",
      "submitting ['simulation'] for execution\n",
      "task.000005 is FAILED\n",
      "Task 'training' ready to submit; resolved dependencies: ['simulation']\n",
      "submitting ['training'] for execution\n",
      "task.000006 is FAILED\n",
      "Task 'active_learn' ready to submit; resolved dependencies: ['simulation', 'training']\n",
      "submitting ['active_learn'] for execution\n",
      "task.000007 is FAILED\n",
      "Task 'simulation' ready to submit; resolved dependencies: ['active_learn']\n",
      "submitting ['simulation'] for execution\n",
      "task.000008 is FAILED\n",
      "Task 'training' ready to submit; resolved dependencies: ['simulation']\n",
      "submitting ['training'] for execution\n",
      "task.000009 is FAILED\n"
     ]
    }
   ],
   "source": [
    "engine = ResourceEngine({'runtime': 30,\n",
    "                         'resource': 'local.localhost'})\n",
    "acl = SequentialActiveLearner(engine)\n",
    "code_path = f'{sys.executable} {os.getcwd()}'"
   ]
  },
  {
   "cell_type": "code",
   "execution_count": 5,
   "id": "4a257ca9-5396-43b5-b9f9-635288e17ae9",
   "metadata": {},
   "outputs": [],
   "source": [
    "# Define and register the simulation task\n",
    "@acl.simulation_task\n",
    "def simulation(*args):\n",
    "    return Task(executable=f'{code_path}/bash/executable/simulation_sample.py')\n",
    "\n",
    "# Define and register the training task\n",
    "@acl.training_task\n",
    "def training(*args):\n",
    "    return Task(executable=f'{code_path}/bash/executable/train.py')\n",
    "\n",
    "# Define and register the active learning task\n",
    "@acl.active_learn_task\n",
    "def active_learn(*args):\n",
    "    return Task(executable=f'{code_path}/bash/executable/active_learning.py')"
   ]
  },
  {
   "cell_type": "code",
   "execution_count": 6,
   "id": "32b1d5fe-2386-4401-b5a1-39e892102542",
   "metadata": {},
   "outputs": [],
   "source": [
    "simul = simulation()\n",
    "train = training()\n",
    "active = active_learn()"
   ]
  },
  {
   "cell_type": "code",
   "execution_count": 8,
   "id": "5c3b4e9d-aac8-4201-ad59-0dac7c21f0fe",
   "metadata": {},
   "outputs": [
    {
     "name": "stdout",
     "output_type": "stream",
     "text": [
      "Registered task 'simulation' and id of 000005 with dependencies: []\n",
      "Registered task 'training' and id of 000006 with dependencies: ['simulation']\n",
      "Starting Iteration-0\n",
      "Registered task 'active_learn' and id of 000007 with dependencies: ['simulation', 'training']\n",
      "Registered task 'simulation' and id of 000008 with dependencies: ['active_learn']\n",
      "Registered task 'training' and id of 000009 with dependencies: ['simulation']\n"
     ]
    },
    {
     "ename": "Exception",
     "evalue": "usage: train.py [-h] [--batch_size BATCH_SIZE] [--epochs EPOCHS] [--lr LR]\n                [--seed SEED] [--log_interval LOG_INTERVAL]\n                [--device {cpu,gpu}] [--ntrain NTRAIN] [--ntest NTEST]\n                [--num_workers NUM_WORKERS] [--num_threads NUM_THREADS]\n                --phase_idx PHASE_IDX [--data_dir DATA_DIR] --shared_file_dir\n                SHARED_FILE_DIR\ntrain.py: error: the following arguments are required: --phase_idx, --shared_file_dir\n",
     "output_type": "error",
     "traceback": [
      "\u001b[0;31m---------------------------------------------------------------------------\u001b[0m",
      "\u001b[0;31mException\u001b[0m                                 Traceback (most recent call last)",
      "Cell \u001b[0;32mIn[8], line 2\u001b[0m\n\u001b[1;32m      1\u001b[0m \u001b[38;5;66;03m# Start the teaching loop and break if max_iter = 10 or stop condition is met\u001b[39;00m\n\u001b[0;32m----> 2\u001b[0m \u001b[43macl\u001b[49m\u001b[38;5;241;43m.\u001b[39;49m\u001b[43mteach\u001b[49m\u001b[43m(\u001b[49m\u001b[43mmax_iter\u001b[49m\u001b[38;5;241;43m=\u001b[39;49m\u001b[38;5;241;43m10\u001b[39;49m\u001b[43m)\u001b[49m\n\u001b[1;32m      3\u001b[0m engine\u001b[38;5;241m.\u001b[39mshutdown()\n",
      "File \u001b[0;32m~/HPC/env1/lib/python3.12/site-packages/rose/learner.py:280\u001b[0m, in \u001b[0;36mSequentialActiveLearner.teach\u001b[0;34m(self, max_iter, skip_pre_loop)\u001b[0m\n\u001b[1;32m    277\u001b[0m train_task \u001b[38;5;241m=\u001b[39m \u001b[38;5;28mself\u001b[39m\u001b[38;5;241m.\u001b[39m_register_task(\u001b[38;5;28mself\u001b[39m\u001b[38;5;241m.\u001b[39mtraining_function, deps\u001b[38;5;241m=\u001b[39msim_task)\n\u001b[1;32m    279\u001b[0m \u001b[38;5;66;03m# block/wait for each workflow until it finishes\u001b[39;00m\n\u001b[0;32m--> 280\u001b[0m \u001b[43mtrain_task\u001b[49m\u001b[38;5;241;43m.\u001b[39;49m\u001b[43mresult\u001b[49m\u001b[43m(\u001b[49m\u001b[43m)\u001b[49m\n",
      "File \u001b[0;32m/usr/lib/python3.12/concurrent/futures/_base.py:456\u001b[0m, in \u001b[0;36mFuture.result\u001b[0;34m(self, timeout)\u001b[0m\n\u001b[1;32m    454\u001b[0m     \u001b[38;5;28;01mraise\u001b[39;00m CancelledError()\n\u001b[1;32m    455\u001b[0m \u001b[38;5;28;01melif\u001b[39;00m \u001b[38;5;28mself\u001b[39m\u001b[38;5;241m.\u001b[39m_state \u001b[38;5;241m==\u001b[39m FINISHED:\n\u001b[0;32m--> 456\u001b[0m     \u001b[38;5;28;01mreturn\u001b[39;00m \u001b[38;5;28;43mself\u001b[39;49m\u001b[38;5;241;43m.\u001b[39;49m\u001b[43m__get_result\u001b[49m\u001b[43m(\u001b[49m\u001b[43m)\u001b[49m\n\u001b[1;32m    457\u001b[0m \u001b[38;5;28;01melse\u001b[39;00m:\n\u001b[1;32m    458\u001b[0m     \u001b[38;5;28;01mraise\u001b[39;00m \u001b[38;5;167;01mTimeoutError\u001b[39;00m()\n",
      "File \u001b[0;32m/usr/lib/python3.12/concurrent/futures/_base.py:401\u001b[0m, in \u001b[0;36mFuture.__get_result\u001b[0;34m(self)\u001b[0m\n\u001b[1;32m    399\u001b[0m \u001b[38;5;28;01mif\u001b[39;00m \u001b[38;5;28mself\u001b[39m\u001b[38;5;241m.\u001b[39m_exception:\n\u001b[1;32m    400\u001b[0m     \u001b[38;5;28;01mtry\u001b[39;00m:\n\u001b[0;32m--> 401\u001b[0m         \u001b[38;5;28;01mraise\u001b[39;00m \u001b[38;5;28mself\u001b[39m\u001b[38;5;241m.\u001b[39m_exception\n\u001b[1;32m    402\u001b[0m     \u001b[38;5;28;01mfinally\u001b[39;00m:\n\u001b[1;32m    403\u001b[0m         \u001b[38;5;66;03m# Break a reference cycle with the exception in self._exception\u001b[39;00m\n\u001b[1;32m    404\u001b[0m         \u001b[38;5;28mself\u001b[39m \u001b[38;5;241m=\u001b[39m \u001b[38;5;28;01mNone\u001b[39;00m\n",
      "\u001b[0;31mException\u001b[0m: usage: train.py [-h] [--batch_size BATCH_SIZE] [--epochs EPOCHS] [--lr LR]\n                [--seed SEED] [--log_interval LOG_INTERVAL]\n                [--device {cpu,gpu}] [--ntrain NTRAIN] [--ntest NTEST]\n                [--num_workers NUM_WORKERS] [--num_threads NUM_THREADS]\n                --phase_idx PHASE_IDX [--data_dir DATA_DIR] --shared_file_dir\n                SHARED_FILE_DIR\ntrain.py: error: the following arguments are required: --phase_idx, --shared_file_dir\n"
     ]
    }
   ],
   "source": [
    "# Start the teaching loop and break if max_iter = 10 or stop condition is met\n",
    "acl.teach(max_iter=10)\n",
    "engine.shutdown()"
   ]
  },
  {
   "cell_type": "code",
   "execution_count": 9,
   "id": "ae77567e-ac54-463b-bfe0-698ea55fe2ea",
   "metadata": {},
   "outputs": [
    {
     "name": "stdout",
     "output_type": "stream",
     "text": [
      "Shutdown is triggered, terminating the resources gracefully\n"
     ]
    }
   ],
   "source": [
    "# Start the teaching process\n",
    "engine.shutdown()."
   ]
  },
  {
   "cell_type": "code",
   "execution_count": null,
   "id": "3b920a38-ca2e-448b-bc0b-10783c67e23c",
   "metadata": {},
   "outputs": [],
   "source": []
  }
 ],
 "metadata": {
  "kernelspec": {
   "display_name": "env1",
   "language": "python",
   "name": "env1"
  },
  "language_info": {
   "codemirror_mode": {
    "name": "ipython",
    "version": 3
   },
   "file_extension": ".py",
   "mimetype": "text/x-python",
   "name": "python",
   "nbconvert_exporter": "python",
   "pygments_lexer": "ipython3",
   "version": "3.12.7"
  }
 },
 "nbformat": 4,
 "nbformat_minor": 5
}
