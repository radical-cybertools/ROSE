{
 "cells": [
  {
   "cell_type": "markdown",
   "id": "f4f14e3c-1e45-4c07-9d3c-d48be14978af",
   "metadata": {},
   "source": [
    "# This notebook will show how to use the ROSE framework to run a custom Active Learning strategy"
   ]
  },
  {
   "cell_type": "code",
   "execution_count": 1,
   "id": "f3300f9c-e101-40b8-910f-31c733ce0c10",
   "metadata": {},
   "outputs": [],
   "source": [
    "import os\n",
    "import sys\n",
    "\n",
    "from rose.learner import ActiveLearner\n",
    "from rose.engine import Task, ResourceEngine\n",
    "from rose.metrics import MODEL_ACCURACY"
   ]
  },
  {
   "cell_type": "markdown",
   "id": "fce35e4a-28e2-408f-b549-e6aff3031a3c",
   "metadata": {},
   "source": [
    "## Custom Active Learning strategy:\n",
    "In addition to the predefined workflows we saw in the `examples/basic/run_me.py`, the Active Learner API allows you to design custom active learning strategies tailored to your specific needs. This will allow you to define a flexible and iterative learning loop. For example, you could create a strategy that dynamically adjusts its behavior based on intermediate results, runs tasks in parallel, or incorporates additional utility tasks such as data cleaning or logging.\n",
    "\n",
    "The following example demonstrates how to create a hybrid workflow that alternates between parallel simulation tasks and training and active learning tasks and incorporates a custom stopping condition based on model performance:"
   ]
  },
  {
   "cell_type": "code",
   "execution_count": 2,
   "id": "28c68da2-74dd-41ae-b0f4-cacd0adf0291",
   "metadata": {},
   "outputs": [
    {
     "name": "stdout",
     "output_type": "stream",
     "text": [
      "Resource Engine started successfully\n",
      "\n"
     ]
    }
   ],
   "source": [
    "engine = ResourceEngine({'runtime': 30,\n",
    "                         'resource': 'local.localhost'})\n",
    "custom_acl = ActiveLearner(engine)"
   ]
  },
  {
   "cell_type": "code",
   "execution_count": 3,
   "id": "39d46460-093c-4f1c-9109-ef73fcea65ce",
   "metadata": {},
   "outputs": [],
   "source": [
    "code_path = f'{sys.executable} {os.getcwd()}'\n",
    "\n",
    "# Define and register the simulation task\n",
    "@custom_acl.simulation_task\n",
    "def simulation(*args):\n",
    "    return Task(executable=f'{code_path}/simulation.py')\n",
    "\n",
    "# Define and register the training task\n",
    "@custom_acl.training_task\n",
    "def training(*args):\n",
    "    return Task(executable=f'{code_path}/training.py')\n",
    "\n",
    "# Define and register the active learning task\n",
    "@custom_acl.active_learn_task\n",
    "def active_learn(*args):\n",
    "    return Task(executable=f'{code_path}/active_learn.py')\n",
    "\n",
    "# Defining the stop criterion with a metric (MSE in this case)\n",
    "@custom_acl.as_stop_criterion(metric_name=MODEL_ACCURACY, threshold=0.99)\n",
    "def check_accuracy(*args):\n",
    "    return Task(executable=f'{code_path}/check_accuracy.py')"
   ]
  },
  {
   "cell_type": "markdown",
   "id": "b8e0ac48-b60d-4eaf-aa00-66eb4bae60b5",
   "metadata": {},
   "source": [
    "### Define your custom strategy and run it:\n",
    "In this custom active learn-teach method, we will submit 3 simulation tasks in parallel and let the training task handle their output. In this example, we are targeting the Accuracy metric of the trained model, and we will stop if we trach an accuracy of 99%"
   ]
  },
  {
   "cell_type": "code",
   "execution_count": 4,
   "id": "d17a10d7-91fd-49fa-bd4c-31dcc68ffb41",
   "metadata": {},
   "outputs": [
    {
     "name": "stdout",
     "output_type": "stream",
     "text": [
      "Registered task 'simulation' and id of 000000 with dependencies: []\n",
      "Registered task 'simulation' and id of 000001 with dependencies: []\n",
      "Registered task 'simulation' and id of 000002 with dependencies: []\n",
      "Registered task 'training' and id of 000003 with dependencies: ['simulation', 'simulation', 'simulation']\n",
      "Registered task 'active_learn' and id of 000004 with dependencies: ['training']\n",
      "Registered task 'check_accuracy' and id of 000005 with dependencies: ['active_learn']\n",
      "Registered task 'simulation' and id of 000006 with dependencies: []\n",
      "Registered task 'simulation' and id of 000007 with dependencies: []\n",
      "Registered task 'simulation' and id of 000008 with dependencies: []\n",
      "Registered task 'training' and id of 000009 with dependencies: ['simulation', 'simulation', 'simulation']\n",
      "Registered task 'active_learn' and id of 000010 with dependencies: ['training']\n",
      "Registered task 'check_accuracy' and id of 000011 with dependencies: ['active_learn']\n",
      "Registered task 'simulation' and id of 000012 with dependencies: []\n",
      "Registered task 'simulation' and id of 000013 with dependencies: []\n",
      "Registered task 'simulation' and id of 000014 with dependencies: []\n",
      "Registered task 'training' and id of 000015 with dependencies: ['simulation', 'simulation', 'simulation']\n",
      "Registered task 'active_learn' and id of 000016 with dependencies: ['training']\n",
      "Registered task 'check_accuracy' and id of 000017 with dependencies: ['active_learn']\n",
      "Registered task 'simulation' and id of 000018 with dependencies: []\n",
      "Registered task 'simulation' and id of 000019 with dependencies: []\n",
      "Registered task 'simulation' and id of 000020 with dependencies: []\n",
      "Registered task 'training' and id of 000021 with dependencies: ['simulation', 'simulation', 'simulation']\n",
      "Registered task 'active_learn' and id of 000022 with dependencies: ['training']\n",
      "Registered task 'check_accuracy' and id of 000023 with dependencies: ['active_learn']\n",
      "Registered task 'simulation' and id of 000024 with dependencies: []\n",
      "Registered task 'simulation' and id of 000025 with dependencies: []\n",
      "Registered task 'simulation' and id of 000026 with dependencies: []\n",
      "Registered task 'training' and id of 000027 with dependencies: ['simulation', 'simulation', 'simulation']\n",
      "Registered task 'active_learn' and id of 000028 with dependencies: ['training']\n",
      "Registered task 'check_accuracy' and id of 000029 with dependencies: ['active_learn']\n",
      "Registered task 'simulation' and id of 000030 with dependencies: []\n",
      "Registered task 'simulation' and id of 000031 with dependencies: []\n",
      "Registered task 'simulation' and id of 000032 with dependencies: []\n",
      "Registered task 'training' and id of 000033 with dependencies: ['simulation', 'simulation', 'simulation']\n",
      "Registered task 'active_learn' and id of 000034 with dependencies: ['training']\n",
      "Registered task 'check_accuracy' and id of 000035 with dependencies: ['active_learn']\n",
      "Registered task 'simulation' and id of 000036 with dependencies: []\n",
      "Registered task 'simulation' and id of 000037 with dependencies: []\n",
      "Registered task 'simulation' and id of 000038 with dependencies: []\n",
      "Registered task 'training' and id of 000039 with dependencies: ['simulation', 'simulation', 'simulation']\n",
      "Registered task 'active_learn' and id of 000040 with dependencies: ['training']\n",
      "Registered task 'check_accuracy' and id of 000041 with dependencies: ['active_learn']\n",
      "Registered task 'simulation' and id of 000042 with dependencies: []\n",
      "Registered task 'simulation' and id of 000043 with dependencies: []\n",
      "Registered task 'simulation' and id of 000044 with dependencies: []\n",
      "Registered task 'training' and id of 000045 with dependencies: ['simulation', 'simulation', 'simulation']\n",
      "Registered task 'active_learn' and id of 000046 with dependencies: ['training']\n",
      "Registered task 'check_accuracy' and id of 000047 with dependencies: ['active_learn']\n",
      "Registered task 'simulation' and id of 000048 with dependencies: []\n",
      "Registered task 'simulation' and id of 000049 with dependencies: []\n",
      "Registered task 'simulation' and id of 000050 with dependencies: []\n",
      "Registered task 'training' and id of 000051 with dependencies: ['simulation', 'simulation', 'simulation']\n",
      "Registered task 'active_learn' and id of 000052 with dependencies: ['training']\n",
      "Registered task 'check_accuracy' and id of 000053 with dependencies: ['active_learn']\n",
      "Registered task 'simulation' and id of 000054 with dependencies: []\n",
      "Registered task 'simulation' and id of 000055 with dependencies: []\n",
      "Registered task 'simulation' and id of 000056 with dependencies: []\n",
      "Registered task 'training' and id of 000057 with dependencies: ['simulation', 'simulation', 'simulation']\n",
      "Registered task 'active_learn' and id of 000058 with dependencies: ['training']\n",
      "Registered task 'check_accuracy' and id of 000059 with dependencies: ['active_learn']\n"
     ]
    }
   ],
   "source": [
    "def teach():\n",
    "    # 10 iterations of active learning\n",
    "    for acl_iter in range(10):\n",
    "        simulations = []\n",
    "        for i in range(3):\n",
    "            # run 3 simulations in parallel\n",
    "            simulations.append(simulation())\n",
    "\n",
    "        # wait for all simulation tasks to finish\n",
    "        [sim.result() for sim in simulations]\n",
    "            \n",
    "        \n",
    "        # Now run training and active_learn\n",
    "        train = training(*simulations)\n",
    "        active = active_learn(simulations, train)\n",
    "\n",
    "        # check for the threshold to stop if accuracy is >= 99%\n",
    "        if check_accuracy(active):\n",
    "            print('Accuracy met the threshold')\n",
    "            break\n",
    "# invoke the custom/user-defined teach() method\n",
    "teach()"
   ]
  },
  {
   "cell_type": "markdown",
   "id": "f22e4b87-6696-4709-9f2a-961bf57bef70",
   "metadata": {},
   "source": [
    "Let's make sure to shutdown the resources."
   ]
  },
  {
   "cell_type": "code",
   "execution_count": 5,
   "id": "a4f65c59-c6dd-4b14-a616-0a393ac1ec83",
   "metadata": {},
   "outputs": [
    {
     "name": "stdout",
     "output_type": "stream",
     "text": [
      "Shutdown is triggered, terminating the resources gracefully\n"
     ]
    }
   ],
   "source": [
    "engine.shutdown()"
   ]
  },
  {
   "cell_type": "markdown",
   "id": "42259319-259c-4766-b574-b5625212843e",
   "metadata": {},
   "source": [
    "### Plot the output:\n",
    "Now, let's visualize the output of our custom Active learning strategy across N iterations."
   ]
  },
  {
   "cell_type": "code",
   "execution_count": 6,
   "id": "4591a422-39c9-4d61-9f0a-3d3d33481e44",
   "metadata": {},
   "outputs": [
    {
     "data": {
      "text/plain": [
       "Text(0.5, 1.0, 'ACC Values for Machine Learning Model')"
      ]
     },
     "execution_count": 6,
     "metadata": {},
     "output_type": "execute_result"
    },
    {
     "data": {
      "image/png": "[encoded data removed]",
      "text/plain": [
       "<Figure size 1000x600 with 1 Axes>"
      ]
     },
     "metadata": {},
     "output_type": "display_data"
    }
   ],
   "source": [
    "import matplotlib.pyplot as plt\n",
    "# Convert string values to floats\n",
    "mse_values = custom_acl.get_result(task_name='check_accuracy')\n",
    "mse_values = [float(acc.strip()) * 100 for acc in mse_values]\n",
    "\n",
    "# Plot the MSE values\n",
    "plt.figure(figsize=(10, 6))\n",
    "plt.plot(mse_values, marker='o', color='b', linestyle='-', markersize=6)\n",
    "\n",
    "# Add labels and title\n",
    "plt.xlabel('Active Learn Iteration Index')\n",
    "plt.ylabel('ACC Value')\n",
    "plt.title('ACC Values for Machine Learning Model')"
   ]
  },
  {
   "cell_type": "code",
   "execution_count": null,
   "id": "d9e43aad-8af2-4db1-a511-6eeed99770fe",
   "metadata": {},
   "outputs": [],
   "source": []
  }
 ],
 "metadata": {
  "kernelspec": {
   "display_name": "Python 3 (ipykernel)",
   "language": "python",
   "name": "python3"
  },
  "language_info": {
   "codemirror_mode": {
    "name": "ipython",
    "version": 3
   },
   "file_extension": ".py",
   "mimetype": "text/x-python",
   "name": "python",
   "nbconvert_exporter": "python",
   "pygments_lexer": "ipython3",
   "version": "3.12.3"
  }
 },
 "nbformat": 4,
 "nbformat_minor": 5
}
