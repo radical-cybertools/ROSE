{
 "cells": [
  {
   "cell_type": "markdown",
   "id": "f4f14e3c-1e45-4c07-9d3c-d48be14978af",
   "metadata": {},
   "source": [
    "# This notebook will show how to use the ROSE framework to run an Active Learning workflow"
   ]
  },
  {
   "cell_type": "code",
   "execution_count": 1,
   "id": "6f5a2778-4eef-415a-b9ec-65f5d28bfe8e",
   "metadata": {},
   "outputs": [],
   "source": [
    "import os\n",
    "import sys\n",
    "\n",
    "from rose.learner import ActiveLearner\n",
    "from rose.engine import Task, ResourceEngine\n",
    "from rose.metrics import MEAN_SQUARED_ERROR_MSE"
   ]
  },
  {
   "cell_type": "markdown",
   "id": "a81db849-c634-4971-8dce-1f10b5eb003e",
   "metadata": {},
   "source": [
    "### Let us first declare the resource engine for our active learning tasks.\n",
    "We will ask for 30 minutes, and the target resources will be local, which means it will run on the user's machine.\n",
    "\n",
    "Next, we define the active learner and assign the resource engine."
   ]
  },
  {
   "cell_type": "code",
   "execution_count": 2,
   "id": "8c44487b-0029-4b2e-b325-6131b2ed2f6f",
   "metadata": {},
   "outputs": [
    {
     "name": "stdout",
     "output_type": "stream",
     "text": [
      "Resource Engine started successfully\n",
      "\n"
     ]
    }
   ],
   "source": [
    "engine = ResourceEngine({'runtime': 30,\n",
    "                         'resource': 'local.localhost'})\n",
    "acl = ActiveLearner(engine)\n",
    "code_path = f'{sys.executable} {os.getcwd()}'"
   ]
  },
  {
   "cell_type": "markdown",
   "id": "e7d0172d-ffc5-4d5d-bec0-4d4805b680da",
   "metadata": {},
   "source": [
    "### Now, let us define our active learning tasks: simulation, training, and active learning"
   ]
  },
  {
   "cell_type": "code",
   "execution_count": 3,
   "id": "c1184cb7-e140-4102-8e25-c2a0c8045b2d",
   "metadata": {},
   "outputs": [],
   "source": [
    "# Define and register the simulation task\n",
    "@acl.simulation_task\n",
    "def simulation(*args):\n",
    "    return Task(executable=f'{code_path}/sim.py')\n",
    "\n",
    "# Define and register the training task\n",
    "@acl.training_task\n",
    "def training(*args):\n",
    "    return Task(executable=f'{code_path}/train.py')\n",
    "\n",
    "# Define and register the active learning task\n",
    "@acl.active_learn_task\n",
    "def active_learn(*args):\n",
    "    return Task(executable=f'{code_path}/active.py')"
   ]
  },
  {
   "cell_type": "markdown",
   "id": "83a8ba45-9e28-46c8-8630-b0ad997fdb60",
   "metadata": {},
   "source": [
    "Optionally, we can define a stop criterion, which will be invoked on every iteration of the Active learning loop and break the iterations if it is satisfied."
   ]
  },
  {
   "cell_type": "code",
   "execution_count": 4,
   "id": "26b89932-86ae-4fc7-81e3-39b57522430d",
   "metadata": {},
   "outputs": [],
   "source": [
    "# Defining the stop criterion with a metric (MSE in this case)\n",
    "@acl.as_stop_criterion(metric_name=MEAN_SQUARED_ERROR_MSE, threshold=0.001)\n",
    "def check_mse(*args):\n",
    "    return Task(executable=f'{code_path}/check_mse.py')"
   ]
  },
  {
   "cell_type": "markdown",
   "metadata": {},
   "source": [
    "<div class=\"alert alert-block alert-info\"> <b>NOTE:</b> ROSE supports a variety of `METRICS`, which can be used to evaluate the model's performance. However, it also supports custom metrics that users can define when they specify the criterion function. </div>\n",
    "\n",
    "\n",
    "\n",
    "<div class=\"alert alert-block alert-warning\">  <b>WARNING:</b> For custom metrics, users must specify the `operator` field as below: </div>\n",
    "\n",
    "```python\n",
    "from rose.metrics import LESS_THAN_THRESHOLD\n",
    "@acl.as_stop_criterion(metric_name='metric_x',\n",
    "                       operator=LESS_THAN_THRESHOLD, threshold=0.001)\n",
    "def check_metric_x(*args):\n",
    "    return Task(executable=f'{code_path}/check_metric_x.py')\n",
    "```"
   ]
  },
  {
   "cell_type": "markdown",
   "id": "dcbada25-03ec-4b6c-bc52-081c9358ce0f",
   "metadata": {},
   "source": [
    "### Now let us invoke the tasks to build the active learning workflow"
   ]
  },
  {
   "cell_type": "code",
   "execution_count": 5,
   "id": "c648810d-371f-4aee-9a0d-f6a5e42a25ef",
   "metadata": {},
   "outputs": [],
   "source": [
    "# Now, call the tasks and teach\n",
    "simul = simulation()\n",
    "train = training()\n",
    "active = active_learn()\n",
    "stop_cond = check_mse()"
   ]
  },
  {
   "cell_type": "markdown",
   "id": "ac1046df-cec4-4c2c-b750-b8c9910d497b",
   "metadata": {},
   "source": [
    "### Once the workflow is built, we can start the teaching process"
   ]
  },
  {
   "cell_type": "code",
   "execution_count": 6,
   "id": "bcd3cdf2-2edc-468b-805c-286bb9291197",
   "metadata": {},
   "outputs": [
    {
     "name": "stdout",
     "output_type": "stream",
     "text": [
      "Registered task 'simulation' and id of 000000 with dependencies: []\n",
      "Registered task 'training' and id of 000001 with dependencies: ['simulation']\n",
      "Both stop condition and max_iter were specified, running until they are satisified\n",
      "Iteration-0\n",
      "\n",
      "Registered task 'active_learn' and id of 000002 with dependencies: ['simulation', 'training']\n",
      "Registered task 'check_mse' and id of 000003 with dependencies: ['active_learn']\n",
      "Registered task 'simulation' and id of 000004 with dependencies: ['active_learn']\n",
      "Registered task 'training' and id of 000005 with dependencies: ['simulation']\n",
      "Iteration-1\n",
      "\n",
      "Registered task 'active_learn' and id of 000006 with dependencies: ['simulation', 'training']\n",
      "Registered task 'check_mse' and id of 000007 with dependencies: ['active_learn']\n",
      "Registered task 'simulation' and id of 000008 with dependencies: ['active_learn']\n",
      "Registered task 'training' and id of 000009 with dependencies: ['simulation']\n",
      "Iteration-2\n",
      "\n",
      "Registered task 'active_learn' and id of 000010 with dependencies: ['simulation', 'training']\n",
      "Registered task 'check_mse' and id of 000011 with dependencies: ['active_learn']\n",
      "Registered task 'simulation' and id of 000012 with dependencies: ['active_learn']\n",
      "Registered task 'training' and id of 000013 with dependencies: ['simulation']\n",
      "Iteration-3\n",
      "\n",
      "Registered task 'active_learn' and id of 000014 with dependencies: ['simulation', 'training']\n",
      "Registered task 'check_mse' and id of 000015 with dependencies: ['active_learn']\n",
      "Registered task 'simulation' and id of 000016 with dependencies: ['active_learn']\n",
      "Registered task 'training' and id of 000017 with dependencies: ['simulation']\n",
      "Iteration-4\n",
      "\n",
      "Registered task 'active_learn' and id of 000018 with dependencies: ['simulation', 'training']\n",
      "Registered task 'check_mse' and id of 000019 with dependencies: ['active_learn']\n",
      "Registered task 'simulation' and id of 000020 with dependencies: ['active_learn']\n",
      "Registered task 'training' and id of 000021 with dependencies: ['simulation']\n",
      "Iteration-5\n",
      "\n",
      "Registered task 'active_learn' and id of 000022 with dependencies: ['simulation', 'training']\n",
      "Registered task 'check_mse' and id of 000023 with dependencies: ['active_learn']\n",
      "Registered task 'simulation' and id of 000024 with dependencies: ['active_learn']\n",
      "Registered task 'training' and id of 000025 with dependencies: ['simulation']\n",
      "Iteration-6\n",
      "\n",
      "Registered task 'active_learn' and id of 000026 with dependencies: ['simulation', 'training']\n",
      "Registered task 'check_mse' and id of 000027 with dependencies: ['active_learn']\n",
      "Registered task 'simulation' and id of 000028 with dependencies: ['active_learn']\n",
      "Registered task 'training' and id of 000029 with dependencies: ['simulation']\n",
      "Iteration-7\n",
      "\n",
      "Registered task 'active_learn' and id of 000030 with dependencies: ['simulation', 'training']\n",
      "Registered task 'check_mse' and id of 000031 with dependencies: ['active_learn']\n",
      "Registered task 'simulation' and id of 000032 with dependencies: ['active_learn']\n",
      "Registered task 'training' and id of 000033 with dependencies: ['simulation']\n",
      "Iteration-8\n",
      "\n",
      "Registered task 'active_learn' and id of 000034 with dependencies: ['simulation', 'training']\n",
      "Registered task 'check_mse' and id of 000035 with dependencies: ['active_learn']\n",
      "Registered task 'simulation' and id of 000036 with dependencies: ['active_learn']\n",
      "Registered task 'training' and id of 000037 with dependencies: ['simulation']\n",
      "Iteration-9\n",
      "\n",
      "Registered task 'active_learn' and id of 000038 with dependencies: ['simulation', 'training']\n",
      "Registered task 'check_mse' and id of 000039 with dependencies: ['active_learn']\n",
      "Registered task 'simulation' and id of 000040 with dependencies: ['active_learn']\n",
      "Registered task 'training' and id of 000041 with dependencies: ['simulation']\n"
     ]
    }
   ],
   "source": [
    "# Start the teaching process\n",
    "acl.teach(max_iter=10)"
   ]
  },
  {
   "cell_type": "markdown",
   "id": "af11cd52-0c96-4c0a-8fa8-b77e0dc805bf",
   "metadata": {},
   "source": [
    "### Once the teaching process is finished, we will make sure to terminate the resources"
   ]
  },
  {
   "cell_type": "code",
   "execution_count": 7,
   "id": "e0274192-3c6c-4045-b867-d678e675415b",
   "metadata": {},
   "outputs": [],
   "source": [
    "# Start the teaching process\n",
    "engine.shutdown()"
   ]
  },
  {
   "cell_type": "markdown",
   "id": "658e7c4f-9c74-4926-bc94-49e25e2bcc23",
   "metadata": {},
   "source": [
    "### To better understand our model performance, we will plot the MSE of each iteration."
   ]
  },
  {
   "cell_type": "code",
   "execution_count": 10,
   "id": "f9d2a44f-787b-42ab-8716-1b6244fb4305",
   "metadata": {},
   "outputs": [
    {
     "data": {
      "text/plain": [
       "Text(0.5, 1.0, 'MSE Values for Machine Learning Model')"
      ]
     },
     "execution_count": 10,
     "metadata": {},
     "output_type": "execute_result"
    },
    {
     "data": {
      "image/png": "[encoded data removed]",
      "text/plain": [
       "<Figure size 1000x600 with 1 Axes>"
      ]
     },
     "metadata": {},
     "output_type": "display_data"
    }
   ],
   "source": [
    "import matplotlib.pyplot as plt\n",
    "# Convert string values to floats\n",
    "mse_values = acl.get_result(task_name='check_mse')\n",
    "mse_values = [float(mse.strip()) for mse in mse_values]\n",
    "\n",
    "# Plot the MSE values\n",
    "plt.figure(figsize=(10, 6))\n",
    "plt.plot(mse_values, marker='o', color='b', linestyle='-', markersize=6)\n",
    "\n",
    "# Add labels and title\n",
    "plt.xlabel('Index')\n",
    "plt.ylabel('MSE Value')\n",
    "plt.title('MSE Values for Machine Learning Model')"
   ]
  }
 ],
 "metadata": {
  "kernelspec": {
   "display_name": "Python 3 (ipykernel)",
   "language": "python",
   "name": "python3"
  },
  "language_info": {
   "codemirror_mode": {
    "name": "ipython",
    "version": 3
   },
   "file_extension": ".py",
   "mimetype": "text/x-python",
   "name": "python",
   "nbconvert_exporter": "python",
   "pygments_lexer": "ipython3",
   "version": "3.12.3"
  }
 },
 "nbformat": 4,
 "nbformat_minor": 5
}
